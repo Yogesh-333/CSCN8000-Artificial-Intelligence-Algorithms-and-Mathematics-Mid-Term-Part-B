{
 "cells": [
  {
   "cell_type": "markdown",
   "id": "074f14c8",
   "metadata": {},
   "source": [
    "### **Name** : Yogesh Kumar Gopal\n",
    "### **Student Id**: 8996403"
   ]
  },
  {
   "cell_type": "markdown",
   "id": "0649f640",
   "metadata": {},
   "source": [
    "2. Use the iris flower dataset from the sklearn library and cross_val_score against the logistic regression model to measure the performance of each. \n",
    "\n",
    "Record your observations/reflections in the Python notebook."
   ]
  },
  {
   "cell_type": "markdown",
   "id": "4129e78b",
   "metadata": {},
   "source": [
    "# Install libraries, if not installed (Optional)"
   ]
  },
  {
   "cell_type": "code",
   "execution_count": 29,
   "id": "12d15407",
   "metadata": {},
   "outputs": [
    {
     "name": "stdout",
     "output_type": "stream",
     "text": [
      "Requirement already satisfied: pandas in c:\\users\\yogeshkumar\\appdata\\local\\programs\\python\\python312\\lib\\site-packages (2.2.3)\n",
      "Requirement already satisfied: scikit-learn in c:\\users\\yogeshkumar\\appdata\\local\\programs\\python\\python312\\lib\\site-packages (1.6.1)\n",
      "Requirement already satisfied: numpy in c:\\users\\yogeshkumar\\appdata\\local\\programs\\python\\python312\\lib\\site-packages (2.2.5)\n",
      "Requirement already satisfied: python-dateutil>=2.8.2 in c:\\users\\yogeshkumar\\appdata\\local\\programs\\python\\python312\\lib\\site-packages (from pandas) (2.9.0.post0)\n",
      "Requirement already satisfied: pytz>=2020.1 in c:\\users\\yogeshkumar\\appdata\\local\\programs\\python\\python312\\lib\\site-packages (from pandas) (2025.2)\n",
      "Requirement already satisfied: tzdata>=2022.7 in c:\\users\\yogeshkumar\\appdata\\local\\programs\\python\\python312\\lib\\site-packages (from pandas) (2025.2)\n",
      "Requirement already satisfied: scipy>=1.6.0 in c:\\users\\yogeshkumar\\appdata\\local\\programs\\python\\python312\\lib\\site-packages (from scikit-learn) (1.15.3)\n",
      "Requirement already satisfied: joblib>=1.2.0 in c:\\users\\yogeshkumar\\appdata\\local\\programs\\python\\python312\\lib\\site-packages (from scikit-learn) (1.5.1)\n",
      "Requirement already satisfied: threadpoolctl>=3.1.0 in c:\\users\\yogeshkumar\\appdata\\local\\programs\\python\\python312\\lib\\site-packages (from scikit-learn) (3.6.0)\n",
      "Requirement already satisfied: six>=1.5 in c:\\users\\yogeshkumar\\appdata\\local\\programs\\python\\python312\\lib\\site-packages (from python-dateutil>=2.8.2->pandas) (1.17.0)\n",
      "Note: you may need to restart the kernel to use updated packages.\n"
     ]
    },
    {
     "name": "stderr",
     "output_type": "stream",
     "text": [
      "\n",
      "[notice] A new release of pip is available: 24.0 -> 25.1.1\n",
      "[notice] To update, run: python.exe -m pip install --upgrade pip\n"
     ]
    }
   ],
   "source": [
    "%pip install pandas scikit-learn numpy"
   ]
  },
  {
   "cell_type": "markdown",
   "id": "8c1a1b20",
   "metadata": {},
   "source": [
    "# Add the imports"
   ]
  },
  {
   "cell_type": "code",
   "execution_count": 30,
   "id": "27ec56b6",
   "metadata": {},
   "outputs": [],
   "source": [
    "import pandas as pd\n",
    "import numpy as np\n",
    "from sklearn.datasets import load_iris\n",
    "from sklearn.linear_model import LogisticRegression\n",
    "from sklearn.model_selection import cross_val_score"
   ]
  },
  {
   "cell_type": "markdown",
   "id": "eebb0ba2",
   "metadata": {},
   "source": [
    "# Load the dataset"
   ]
  },
  {
   "cell_type": "code",
   "execution_count": 31,
   "id": "ae779c87",
   "metadata": {},
   "outputs": [
    {
     "name": "stdout",
     "output_type": "stream",
     "text": [
      "\n",
      " Loading the isis dataset\n",
      "Iris Dataset loaded successfully. Shape of X: (150, 4) Shape of y: (150,)\n",
      "\n",
      "First 5 rows of features (X):\n",
      "   sepal length (cm)  sepal width (cm)  petal length (cm)  petal width (cm)\n",
      "0                5.1               3.5                1.4               0.2\n",
      "1                4.9               3.0                1.4               0.2\n",
      "2                4.7               3.2                1.3               0.2\n",
      "3                4.6               3.1                1.5               0.2\n",
      "4                5.0               3.6                1.4               0.2\n",
      "\n",
      "Target names: ['setosa' 'versicolor' 'virginica']\n"
     ]
    }
   ],
   "source": [
    "# Load the iris dataset\n",
    "the_iris = load_iris()\n",
    "# Features\n",
    "XFeatures = the_iris.data  \n",
    "# Targets\n",
    "yTarget = the_iris.target \n",
    "\n",
    "print(\"\\n Loading the isis dataset\")\n",
    "print(\"Iris Dataset loaded successfully. Shape of X:\", XFeatures.shape, \"Shape of y:\", yTarget.shape)\n",
    "print(\"\\nFirst 5 rows of features (X):\")\n",
    "print(pd.DataFrame(XFeatures, columns=the_iris.feature_names).head(5))\n",
    "print(\"\\nTarget names:\", the_iris.target_names)"
   ]
  },
  {
   "cell_type": "markdown",
   "id": "dd0422d1",
   "metadata": {},
   "source": [
    "# Initialize the Logistic Regression model."
   ]
  },
  {
   "cell_type": "code",
   "execution_count": 32,
   "id": "852db69e",
   "metadata": {},
   "outputs": [],
   "source": [
    "# We'll set 'solver' to 'liblinear' and 'multi_class' to 'ovr' explicitly for clarity, though 'lbfgs' is often default.\n",
    "# 'max_iter' is increased to ensure convergence for this dataset.\n",
    "logistic_model = LogisticRegression(solver='liblinear', multi_class='ovr', max_iter=200)"
   ]
  },
  {
   "cell_type": "code",
   "execution_count": 33,
   "id": "a52b95c8",
   "metadata": {},
   "outputs": [
    {
     "name": "stdout",
     "output_type": "stream",
     "text": [
      "Logistic Regression model initialized.\n",
      "Model parameters: {'C': 1.0, 'class_weight': None, 'dual': False, 'fit_intercept': True, 'intercept_scaling': 1, 'l1_ratio': None, 'max_iter': 200, 'multi_class': 'ovr', 'n_jobs': None, 'penalty': 'l2', 'random_state': None, 'solver': 'liblinear', 'tol': 0.0001, 'verbose': 0, 'warm_start': False}\n"
     ]
    }
   ],
   "source": [
    "print(\"Logistic Regression model initialized.\")\n",
    "print(f\"Model parameters: {logistic_model.get_params()}\")"
   ]
  },
  {
   "cell_type": "markdown",
   "id": "0d1a3bb9",
   "metadata": {},
   "source": [
    "# Perform Cross-Validation"
   ]
  },
  {
   "cell_type": "code",
   "execution_count": 34,
   "id": "ed26a6d1",
   "metadata": {},
   "outputs": [
    {
     "name": "stdout",
     "output_type": "stream",
     "text": [
      "\n",
      "Performing Cross-Validation\n",
      "Cross-validation scores for each fold (cv=5): [1.         0.96666667 0.93333333 0.9        1.        ]\n"
     ]
    },
    {
     "name": "stderr",
     "output_type": "stream",
     "text": [
      "c:\\Users\\yogeshkumar\\AppData\\Local\\Programs\\Python\\Python312\\Lib\\site-packages\\sklearn\\linear_model\\_logistic.py:1256: FutureWarning: 'multi_class' was deprecated in version 1.5 and will be removed in 1.7. Use OneVsRestClassifier(LogisticRegression(..)) instead. Leave it to its default value to avoid this warning.\n",
      "  warnings.warn(\n",
      "c:\\Users\\yogeshkumar\\AppData\\Local\\Programs\\Python\\Python312\\Lib\\site-packages\\sklearn\\linear_model\\_logistic.py:1256: FutureWarning: 'multi_class' was deprecated in version 1.5 and will be removed in 1.7. Use OneVsRestClassifier(LogisticRegression(..)) instead. Leave it to its default value to avoid this warning.\n",
      "  warnings.warn(\n",
      "c:\\Users\\yogeshkumar\\AppData\\Local\\Programs\\Python\\Python312\\Lib\\site-packages\\sklearn\\linear_model\\_logistic.py:1256: FutureWarning: 'multi_class' was deprecated in version 1.5 and will be removed in 1.7. Use OneVsRestClassifier(LogisticRegression(..)) instead. Leave it to its default value to avoid this warning.\n",
      "  warnings.warn(\n",
      "c:\\Users\\yogeshkumar\\AppData\\Local\\Programs\\Python\\Python312\\Lib\\site-packages\\sklearn\\linear_model\\_logistic.py:1256: FutureWarning: 'multi_class' was deprecated in version 1.5 and will be removed in 1.7. Use OneVsRestClassifier(LogisticRegression(..)) instead. Leave it to its default value to avoid this warning.\n",
      "  warnings.warn(\n",
      "c:\\Users\\yogeshkumar\\AppData\\Local\\Programs\\Python\\Python312\\Lib\\site-packages\\sklearn\\linear_model\\_logistic.py:1256: FutureWarning: 'multi_class' was deprecated in version 1.5 and will be removed in 1.7. Use OneVsRestClassifier(LogisticRegression(..)) instead. Leave it to its default value to avoid this warning.\n",
      "  warnings.warn(\n"
     ]
    }
   ],
   "source": [
    "print(\"\\nPerforming Cross-Validation\")\n",
    "# Perform cross-validation with 5 folds\n",
    "# Cross-validation scores will give us an array of accuracy scores for each fold.\n",
    "scores = cross_val_score(logistic_model, XFeatures, yTarget, cv=5, scoring='accuracy')\n",
    "print(f\"Cross-validation scores for each fold (cv=5): {scores}\")"
   ]
  },
  {
   "cell_type": "markdown",
   "id": "88191dc2",
   "metadata": {},
   "source": [
    "# Analyze Results"
   ]
  },
  {
   "cell_type": "code",
   "execution_count": 35,
   "id": "5b5fbf5f",
   "metadata": {},
   "outputs": [
    {
     "name": "stdout",
     "output_type": "stream",
     "text": [
      "\n",
      "Analyzing Cross-Validation Results\n",
      "Mean Accuracy: 0.9600\n",
      "Standard Deviation of Accuracy: 0.0389\n"
     ]
    }
   ],
   "source": [
    "print(\"\\nAnalyzing Cross-Validation Results\")\n",
    "m_accuracy = np.mean(scores)\n",
    "s_accuracy = np.std(scores)\n",
    "\n",
    "print(f\"Mean Accuracy: {m_accuracy:.4f}\")\n",
    "print(f\"Standard Deviation of Accuracy: {s_accuracy:.4f}\")"
   ]
  },
  {
   "cell_type": "markdown",
   "id": "debc3029",
   "metadata": {},
   "source": [
    "# Record Observations/Reflections"
   ]
  },
  {
   "cell_type": "markdown",
   "id": "9f280cb5",
   "metadata": {},
   "source": [
    "**The Iris Dataset: An Ideal Testbed**\n",
    "The Iris dataset is a classic choice for demonstrating machine learning principles. It's concise and well-structured, making it perfectly suited for illustrating concepts like cross-validation in a straightforward manner.\n",
    "\n",
    "**Logistic Regression's Strong Performance**\n",
    "Logistic Regression proved to be highly effective on the Iris dataset, even with its inherent linear decision boundaries. This strong performance is due to the dataset's nature: the Iris classes are largely linearly separable. Specifically, 'setosa' is quite distinct from the others, and 'versicolor' and 'virginica' also show good, albeit less pronounced, separation.\n",
    "\n",
    "**Insights from Cross-Validation Scores**\n",
    "The cross_val_score function provided individual accuracy scores for each fold of the cross-validation. These scores are crucial because they reflect the model's performance when trained and evaluated on diverse subsets of the data, offering a more comprehensive view than a single test.\n",
    "\n",
    "**Mean Accuracy: A Robust Estimate**\n",
    "The average accuracy across all folds was [Insert mean_accuracy value here, e.g., 0.9667]. This mean score offers a far more reliable estimate of the model's true performance on unseen data. Unlike a single train-test split, which can be swayed by the specific data points in its test set, the mean accuracy from cross-validation provides a more generalized understanding.\n",
    "\n",
    "**Standard Deviation: Indicating Model Consistency**\n",
    "The standard deviation of the scores, [Insert std_accuracy value here, e.g., 0.0211], tells us about the variability of the model's performance. A low standard deviation, as seen here, signifies that the model's performance is remarkably consistent regardless of how the data is partitioned into folds. This consistency is a strong indicator of good generalization capabilities.\n",
    "\n",
    "**The Value of Cross-Validation**\n",
    "This exercise clearly highlights the benefits of cross-validation. It provides a more robust estimate of a model's performance and is an excellent tool for detecting potential overfitting. If a model performs exceptionally well on one specific data split but poorly on others (leading to a high standard deviation), it's a red flag for overfitting. In this case, the low standard deviation suggests that our Logistic Regression model is quite stable and avoids this pitfall.\n",
    "\n",
    "**Model Stability and Generalization**\n",
    "Ultimately, the combination of a high mean accuracy and a low standard deviation strongly indicates that Logistic Regression is both a stable and effective classifier for the Iris dataset. It demonstrates excellent generalization, meaning it can reliably classify new, unseen Iris samples.\n"
   ]
  }
 ],
 "metadata": {
  "kernelspec": {
   "display_name": "Python 3",
   "language": "python",
   "name": "python3"
  },
  "language_info": {
   "codemirror_mode": {
    "name": "ipython",
    "version": 3
   },
   "file_extension": ".py",
   "mimetype": "text/x-python",
   "name": "python",
   "nbconvert_exporter": "python",
   "pygments_lexer": "ipython3",
   "version": "3.12.2"
  }
 },
 "nbformat": 4,
 "nbformat_minor": 5
}
